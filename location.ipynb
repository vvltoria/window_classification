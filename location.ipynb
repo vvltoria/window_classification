{
 "cells": [
  {
   "cell_type": "code",
   "execution_count": 1,
   "id": "35b8ee56",
   "metadata": {},
   "outputs": [],
   "source": [
    "import numpy as np\n",
    "import pandas as pd\n",
    "import torch\n",
    "import torch.nn as nn"
   ]
  },
  {
   "cell_type": "markdown",
   "id": "c8d9d921",
   "metadata": {},
   "source": [
    "#### *Toy example (model needs to find words corresponding to the location)*\n",
    "---"
   ]
  },
  {
   "cell_type": "markdown",
   "id": "322f2caa",
   "metadata": {},
   "source": [
    "##### Data & Preprocessing"
   ]
  },
  {
   "cell_type": "code",
   "execution_count": 2,
   "id": "a398663f",
   "metadata": {},
   "outputs": [],
   "source": [
    "corpus = [\n",
    "          \"We always come to Paris\",\n",
    "          \"The professor is from Australia\",\n",
    "          \"I live in Stanford\",\n",
    "          \"He comes from Taiwan\",\n",
    "          \"The capital of Turkey is Ankara\"\n",
    "         ]"
   ]
  },
  {
   "cell_type": "markdown",
   "id": "1f7bd390",
   "metadata": {},
   "source": [
    "    - tokenization\n",
    "    - stop words removal\n",
    "    - lowercasing\n",
    "    - noise removal"
   ]
  },
  {
   "cell_type": "code",
   "execution_count": 3,
   "id": "b4f135b7",
   "metadata": {},
   "outputs": [],
   "source": [
    "def preprocessing(sent):\n",
    "    return sent.lower().split()\n",
    " \n",
    "train_sentences = [preprocessing(sentence) for sentence in corpus]"
   ]
  },
  {
   "cell_type": "code",
   "execution_count": 4,
   "id": "c027f45b",
   "metadata": {},
   "outputs": [
    {
     "data": {
      "text/plain": [
       "[['we', 'always', 'come', 'to', 'paris'],\n",
       " ['the', 'professor', 'is', 'from', 'australia'],\n",
       " ['i', 'live', 'in', 'stanford'],\n",
       " ['he', 'comes', 'from', 'taiwan'],\n",
       " ['the', 'capital', 'of', 'turkey', 'is', 'ankara']]"
      ]
     },
     "execution_count": 4,
     "metadata": {},
     "output_type": "execute_result"
    }
   ],
   "source": [
    "train_sentences"
   ]
  },
  {
   "cell_type": "markdown",
   "id": "620c55c4",
   "metadata": {},
   "source": [
    "    location set:"
   ]
  },
  {
   "cell_type": "code",
   "execution_count": 5,
   "id": "9956f787",
   "metadata": {},
   "outputs": [],
   "source": [
    "locations = set([\"australia\", \"ankara\", \"paris\", \"stanford\", \"taiwan\", \"turkey\"])\n",
    "\n",
    "train_labels = [[1 if word in locations else 0 for word in sentence] for sentence in train_sentences]"
   ]
  },
  {
   "cell_type": "code",
   "execution_count": 6,
   "id": "f798b13c",
   "metadata": {},
   "outputs": [
    {
     "data": {
      "text/plain": [
       "[[0, 0, 0, 0, 1],\n",
       " [0, 0, 0, 0, 1],\n",
       " [0, 0, 0, 1],\n",
       " [0, 0, 0, 1],\n",
       " [0, 0, 0, 1, 0, 1]]"
      ]
     },
     "execution_count": 6,
     "metadata": {},
     "output_type": "execute_result"
    }
   ],
   "source": [
    "train_labels"
   ]
  },
  {
   "cell_type": "markdown",
   "id": "64a33d99",
   "metadata": {},
   "source": [
    "    vocabulary from sentences:"
   ]
  },
  {
   "cell_type": "code",
   "execution_count": 7,
   "id": "fa8e166f",
   "metadata": {},
   "outputs": [
    {
     "data": {
      "text/plain": [
       "{'always',\n",
       " 'ankara',\n",
       " 'australia',\n",
       " 'capital',\n",
       " 'come',\n",
       " 'comes',\n",
       " 'from',\n",
       " 'he',\n",
       " 'i',\n",
       " 'in',\n",
       " 'is',\n",
       " 'live',\n",
       " 'of',\n",
       " 'paris',\n",
       " 'professor',\n",
       " 'stanford',\n",
       " 'taiwan',\n",
       " 'the',\n",
       " 'to',\n",
       " 'turkey',\n",
       " 'we'}"
      ]
     },
     "execution_count": 7,
     "metadata": {},
     "output_type": "execute_result"
    }
   ],
   "source": [
    "vocab = set(word for sentence in train_sentences for word in sentence)\n",
    "\n",
    "vocab"
   ]
  },
  {
   "cell_type": "code",
   "execution_count": 8,
   "id": "950ea168",
   "metadata": {},
   "outputs": [],
   "source": [
    "vocab.add(\"<unk>\")"
   ]
  },
  {
   "cell_type": "markdown",
   "id": "02c85ec9",
   "metadata": {},
   "source": [
    "    Padding for window classification"
   ]
  },
  {
   "cell_type": "code",
   "execution_count": 9,
   "id": "440d7c14",
   "metadata": {},
   "outputs": [],
   "source": [
    "vocab.add('<pad>')"
   ]
  },
  {
   "cell_type": "code",
   "execution_count": 10,
   "id": "ddda7e23",
   "metadata": {},
   "outputs": [],
   "source": [
    "def add_padding(sentence, window_size, pad='<pad>'):\n",
    "    window = [pad] * window_size\n",
    "    return window + sentence + window"
   ]
  },
  {
   "cell_type": "code",
   "execution_count": 11,
   "id": "894171d1",
   "metadata": {},
   "outputs": [],
   "source": [
    "words = sorted(list(vocab))\n",
    "\n",
    "words_to_indx = {word:indx for indx, word in enumerate(words)}"
   ]
  },
  {
   "cell_type": "code",
   "execution_count": 12,
   "id": "3ca9bf44",
   "metadata": {},
   "outputs": [
    {
     "data": {
      "text/plain": [
       "{'<pad>': 0,\n",
       " '<unk>': 1,\n",
       " 'always': 2,\n",
       " 'ankara': 3,\n",
       " 'australia': 4,\n",
       " 'capital': 5,\n",
       " 'come': 6,\n",
       " 'comes': 7,\n",
       " 'from': 8,\n",
       " 'he': 9,\n",
       " 'i': 10,\n",
       " 'in': 11,\n",
       " 'is': 12,\n",
       " 'live': 13,\n",
       " 'of': 14,\n",
       " 'paris': 15,\n",
       " 'professor': 16,\n",
       " 'stanford': 17,\n",
       " 'taiwan': 18,\n",
       " 'the': 19,\n",
       " 'to': 20,\n",
       " 'turkey': 21,\n",
       " 'we': 22}"
      ]
     },
     "execution_count": 12,
     "metadata": {},
     "output_type": "execute_result"
    }
   ],
   "source": [
    "words_to_indx"
   ]
  },
  {
   "cell_type": "markdown",
   "id": "f124db04",
   "metadata": {},
   "source": [
    "    converting sentences into sequence of indices"
   ]
  },
  {
   "cell_type": "code",
   "execution_count": 13,
   "id": "526c3544",
   "metadata": {},
   "outputs": [],
   "source": [
    "def sent_to_ind(sentence, words_indexes):\n",
    "    indexed_sentence = []\n",
    "    for word in sentence:\n",
    "        if word in words_indexes:\n",
    "            index = words_to_indx[word]\n",
    "        else:\n",
    "            index = words_to_indx['<unk>']\n",
    "        indexed_sentence.append(index)\n",
    "\n",
    "    return indexed_sentence"
   ]
  },
  {
   "cell_type": "code",
   "execution_count": 14,
   "id": "f891977e",
   "metadata": {},
   "outputs": [
    {
     "name": "stdout",
     "output_type": "stream",
     "text": [
      "indexed sentence from train corpus:  [22, 2, 6, 20, 15]\n",
      "from indecis to words:  ['we', 'always', 'come', 'to', 'paris']\n"
     ]
    }
   ],
   "source": [
    "indexed_sent = sent_to_ind(train_sentences[0], words_to_indx)\n",
    "restored_sent = [words[indx] for indx in indexed_sent]\n",
    "\n",
    "print('indexed sentence from train corpus: ', indexed_sent)\n",
    "print('from indecis to words: ', restored_sent)"
   ]
  },
  {
   "cell_type": "code",
   "execution_count": 15,
   "id": "92122a44",
   "metadata": {},
   "outputs": [
    {
     "data": {
      "text/plain": [
       "[[22, 2, 6, 20, 15],\n",
       " [19, 16, 12, 8, 4],\n",
       " [10, 13, 11, 17],\n",
       " [9, 7, 8, 18],\n",
       " [19, 5, 14, 21, 12, 3]]"
      ]
     },
     "execution_count": 15,
     "metadata": {},
     "output_type": "execute_result"
    }
   ],
   "source": [
    "train_indecies = [sent_to_ind(sentence, words_to_indx) for sentence in train_sentences]\n",
    "train_indecies"
   ]
  },
  {
   "cell_type": "code",
   "execution_count": 16,
   "id": "d5505884",
   "metadata": {},
   "outputs": [],
   "source": [
    "import pprint"
   ]
  },
  {
   "cell_type": "code",
   "execution_count": 17,
   "id": "7eccabce",
   "metadata": {},
   "outputs": [
    {
     "name": "stdout",
     "output_type": "stream",
     "text": [
      "Train tokens:\n",
      "[['we', 'always', 'come', 'to', 'paris'],\n",
      " ['the', 'professor', 'is', 'from', 'australia'],\n",
      " ['i', 'live', 'in', 'stanford'],\n",
      " ['he', 'comes', 'from', 'taiwan'],\n",
      " ['the', 'capital', 'of', 'turkey', 'is', 'ankara']]\n",
      "-------------\n",
      "Train labels for locations:\n",
      "[[0, 0, 0, 0, 1],\n",
      " [0, 0, 0, 0, 1],\n",
      " [0, 0, 0, 1],\n",
      " [0, 0, 0, 1],\n",
      " [0, 0, 0, 1, 0, 1]]\n",
      "-------------\n",
      "Train sentences turned into sequence of indecies:\n",
      "[[22, 2, 6, 20, 15],\n",
      " [19, 16, 12, 8, 4],\n",
      " [10, 13, 11, 17],\n",
      " [9, 7, 8, 18],\n",
      " [19, 5, 14, 21, 12, 3]]\n",
      "-------------\n"
     ]
    }
   ],
   "source": [
    "print('Train tokens:')\n",
    "pprint.pprint(train_sentences)\n",
    "print('-------------')\n",
    "\n",
    "print('Train labels for locations:')\n",
    "pprint.pprint(train_labels)\n",
    "print('-------------')\n",
    "\n",
    "print('Train sentences turned into sequence of indecies:')\n",
    "pprint.pprint(train_indecies)\n",
    "print('-------------')"
   ]
  },
  {
   "cell_type": "markdown",
   "id": "5898aaac",
   "metadata": {},
   "source": [
    "##### Batching"
   ]
  },
  {
   "cell_type": "code",
   "execution_count": 18,
   "id": "6f0e702b",
   "metadata": {},
   "outputs": [],
   "source": [
    "from torch.utils.data import DataLoader\n",
    "from functools import partial"
   ]
  },
  {
   "cell_type": "code",
   "execution_count": 19,
   "id": "38c3be86",
   "metadata": {},
   "outputs": [],
   "source": [
    "def custom_collate_fn(batch, window_size, words_to_indx):\n",
    "    x, y = zip(*batch)\n",
    "\n",
    "    #add padding to x\n",
    "    x = [add_padding(sentence, window_size) for sentence in x]\n",
    "\n",
    "    #convert sentences into indecies\n",
    "    x = [sent_to_ind(sentence, words_to_indx) for sentence in x]\n",
    "\n",
    "    #make sure that the lengths of all the example in one batch are the same\n",
    "    pad_token = words_to_indx['<pad>']\n",
    "    x = [torch.LongTensor(indx_sent) for indx_sent in x]\n",
    "    x_padded = nn.utils.rnn.pad_sequence(x, batch_first=True, padding_value=pad_token)\n",
    "\n",
    "    #save initial sizes\n",
    "    lengths = [len(label) for label in y]\n",
    "    lengths = torch.LongTensor(lengths)\n",
    "\n",
    "    #add padding to y\n",
    "    y = [torch.LongTensor(i) for i in y]\n",
    "    y_padded = nn.utils.rnn.pad_sequence(y, batch_first=True, padding_value=0)\n",
    "\n",
    "    return x_padded, y_padded, lengths\n"
   ]
  },
  {
   "cell_type": "code",
   "execution_count": 20,
   "id": "f9b6daff",
   "metadata": {},
   "outputs": [],
   "source": [
    "data = list(zip(train_sentences, train_labels))"
   ]
  },
  {
   "cell_type": "code",
   "execution_count": 21,
   "id": "f4e947f0",
   "metadata": {},
   "outputs": [
    {
     "name": "stdout",
     "output_type": "stream",
     "text": [
      "[(['we', 'always', 'come', 'to', 'paris'], [0, 0, 0, 0, 1]),\n",
      " (['the', 'professor', 'is', 'from', 'australia'], [0, 0, 0, 0, 1]),\n",
      " (['i', 'live', 'in', 'stanford'], [0, 0, 0, 1]),\n",
      " (['he', 'comes', 'from', 'taiwan'], [0, 0, 0, 1]),\n",
      " (['the', 'capital', 'of', 'turkey', 'is', 'ankara'], [0, 0, 0, 1, 0, 1])]\n"
     ]
    }
   ],
   "source": [
    "pprint.pprint(data)"
   ]
  },
  {
   "cell_type": "code",
   "execution_count": 22,
   "id": "99a61f26",
   "metadata": {},
   "outputs": [
    {
     "name": "stdout",
     "output_type": "stream",
     "text": [
      "iteration 0\n",
      "batched input:\n",
      "tensor([[ 0,  0, 19, 16, 12,  8,  4,  0,  0,  0],\n",
      "        [ 0,  0, 19,  5, 14, 21, 12,  3,  0,  0]])\n",
      "batched labels:\n",
      "tensor([[0, 0, 0, 0, 1, 0],\n",
      "        [0, 0, 0, 1, 0, 1]])\n",
      "batched lengths:\n",
      "tensor([5, 6])\n",
      "\n",
      "iteration 1\n",
      "batched input:\n",
      "tensor([[ 0,  0, 10, 13, 11, 17,  0,  0],\n",
      "        [ 0,  0,  9,  7,  8, 18,  0,  0]])\n",
      "batched labels:\n",
      "tensor([[0, 0, 0, 1],\n",
      "        [0, 0, 0, 1]])\n",
      "batched lengths:\n",
      "tensor([4, 4])\n",
      "\n",
      "iteration 2\n",
      "batched input:\n",
      "tensor([[ 0,  0, 22,  2,  6, 20, 15,  0,  0]])\n",
      "batched labels:\n",
      "tensor([[0, 0, 0, 0, 1]])\n",
      "batched lengths:\n",
      "tensor([5])\n",
      "\n"
     ]
    }
   ],
   "source": [
    "batch_size = 2\n",
    "shuffle = True\n",
    "window_size = 2 \n",
    "collate_fn = partial(custom_collate_fn, window_size=window_size, words_to_indx=words_to_indx)\n",
    "\n",
    "loader = DataLoader(\n",
    "    data,\n",
    "    batch_size=batch_size,\n",
    "    shuffle=shuffle,\n",
    "    collate_fn=collate_fn\n",
    ")\n",
    "\n",
    "counter = 0\n",
    "for batched_x, batched_y, batched_lengths in loader:\n",
    "  print(f\"iteration {counter}\")\n",
    "  print(\"batched input:\")\n",
    "  print(batched_x)\n",
    "  print(\"batched labels:\")\n",
    "  print(batched_y)\n",
    "  print(\"batched lengths:\")\n",
    "  print(batched_lengths)\n",
    "  print(\"\")\n",
    "  counter += 1"
   ]
  },
  {
   "cell_type": "markdown",
   "id": "3f0eaa3c",
   "metadata": {},
   "source": [
    "##### Model"
   ]
  },
  {
   "cell_type": "code",
   "execution_count": 23,
   "id": "8a53c1bf",
   "metadata": {},
   "outputs": [],
   "source": [
    "class WordWindowClassifier(nn.Module):\n",
    "    \n",
    "    def __init__(self, hyperparameters, vocab_size, pad_index=0):\n",
    "        super(WordWindowClassifier, self).__init__()\n",
    "        self.window_size = hyperparameters['window_size']\n",
    "        self.embed_dim = hyperparameters['embed_dim']\n",
    "        self.hidden_dim = hyperparameters['hidden_dim']\n",
    "        self.freeze_embed = hyperparameters['freeze_embed']\n",
    "        \n",
    "        # 1. Embedding Layer\n",
    "        self.embed = nn.Embedding(vocab_size, self.embed_dim, padding_idx=pad_index)\n",
    "        if self.freeze_embed == True:\n",
    "            self.embed.weight.requires_grad = False\n",
    "\n",
    "        # 2. Hidden Layer\n",
    "        full_window_size = 2 * window_size + 1\n",
    "        self.hidden_layer = nn.Sequential(\n",
    "            nn.Linear(full_window_size * self.embed_dim, self.hidden_dim),\n",
    "            nn.Tanh()\n",
    "        )\n",
    "\n",
    "        # 3. Output Layer\n",
    "        self.output_layer = nn.Linear(self.hidden_dim, 1)\n",
    "\n",
    "        # 4. Probability\n",
    "        self.probabilities = nn.Sigmoid()\n",
    "\n",
    "\n",
    "\n",
    "    def forward(self, input):\n",
    "        # SIZE1 = (BATCH, SENTENCE LENGTH)\n",
    "\n",
    "        batch_size, sentence_length = input.size()\n",
    "\n",
    "        words_windows = input.unfold(1, 2 * self.window_size + 1, 1)\n",
    "                                    # (dimension, size, step)\n",
    "        _, adjusted_length, _ = words_windows.size()\n",
    "\n",
    "        # SIZE2 = (BATCH, WINDOWS QUANTITY, WINDOW SIZE)\n",
    "\n",
    "        # check size\n",
    "        assert words_windows.size() == (batch_size, adjusted_length, 2 * self.window_size + 1)\n",
    "\n",
    "        # embedding \n",
    "        embedded_windows = self.embed(words_windows)\n",
    "\n",
    "        # SIZE3 = (BATCH, WINDOWS QUANTITY, WINDOW SIZE, EMBEDDINGS)\n",
    "\n",
    "        #reshaping for linear layer\n",
    "        embedded_windows = embedded_windows.view(batch_size, adjusted_length, -1)\n",
    "\n",
    "        # SIZE4 = (BATCH, WINDOWS QUANTITY, WINDOW SIZE * EMBEDDINGS)\n",
    "\n",
    "        #hidden layer\n",
    "        hid_layer = self.hidden_layer(embedded_windows)\n",
    "\n",
    "        # SIZE5 = (BATCH, WINDOWS QUANTITY, HIDDEN)\n",
    "\n",
    "        #output layer\n",
    "        output = self.output_layer(hid_layer)\n",
    "\n",
    "        # SIZE6 = (BATCH, WINDOWS QUANTITY, 1)\n",
    "\n",
    "        #probabilities layer\n",
    "        output = self.probabilities(output)\n",
    "        output = output.view(batch_size, -1)\n",
    "\n",
    "        # SIZE6 = (BATCH, WINDOWS QUANTITY * 1)  \n",
    "        return output"
   ]
  },
  {
   "cell_type": "markdown",
   "id": "affa0a49",
   "metadata": {},
   "source": [
    "##### Training"
   ]
  },
  {
   "cell_type": "code",
   "execution_count": 24,
   "id": "69489a52",
   "metadata": {},
   "outputs": [],
   "source": [
    "data = list(zip(train_sentences, train_labels))\n",
    "shuffle = True\n",
    "window_size = 2\n",
    "batch_size = 2\n",
    "collate_fn = partial(custom_collate_fn, window_size=window_size, words_to_indx=words_to_indx)\n",
    "\n",
    "loader = DataLoader(\n",
    "    dataset=data,\n",
    "    batch_size=batch_size,\n",
    "    shuffle=shuffle,\n",
    "    collate_fn=collate_fn\n",
    ")\n",
    "\n",
    "model_hyperparameters = {\n",
    "    'batch_size': 4,\n",
    "    'window_size': 2,\n",
    "    'embed_dim': 25,\n",
    "    'hidden_dim': 25,\n",
    "    'freeze_embed': False\n",
    "}\n",
    "\n",
    "vocab_size = len(words_to_indx)\n",
    "\n",
    "# model\n",
    "model = WordWindowClassifier(\n",
    "    hyperparameters=model_hyperparameters, \n",
    "    vocab_size=vocab_size)\n",
    "\n",
    "# optim\n",
    "learning_rate = 1e-2\n",
    "optimizer = torch.optim.SGD(model.parameters(), lr=learning_rate)\n",
    "\n",
    "# loss function\n",
    "def loss_func(batch_outputs, batch_lables, lenghts):\n",
    "    bceloss= nn.BCELoss()\n",
    "    loss = bceloss(batch_outputs, batch_lables.float())\n",
    "    loss = loss / lenghts.sum().float()\n",
    "\n",
    "    return loss"
   ]
  },
  {
   "cell_type": "code",
   "execution_count": 25,
   "id": "c852ee8b",
   "metadata": {},
   "outputs": [],
   "source": [
    "def train_epoch(model, optimizer, loader, loss_func):\n",
    "    total_loss = 0\n",
    "\n",
    "    for batch_x, batch_y, batch_lenghts in loader:\n",
    "        optimizer.zero_grad()\n",
    "\n",
    "        outputs = model.forward(batch_x)\n",
    "        loss = loss_func(outputs, batch_y, batch_lenghts)\n",
    "        loss.backward()\n",
    "\n",
    "        optimizer.step()    \n",
    "\n",
    "        total_loss += loss.item()\n",
    "        \n",
    "    return total_loss\n",
    "\n",
    "def train(model, optimizer, loader, loss_func, n_epochs=10000):\n",
    "    for epoch in range(n_epochs):\n",
    "        epoch_loss = train_epoch(model, optimizer, loader, loss_func)\n",
    "        if epoch % 100 == 0: \n",
    "            print(epoch_loss)"
   ]
  },
  {
   "cell_type": "code",
   "execution_count": 26,
   "id": "9c76c71c",
   "metadata": {},
   "outputs": [
    {
     "name": "stdout",
     "output_type": "stream",
     "text": [
      "0.2997586205601692\n",
      "0.21746812388300896\n",
      "0.18579839542508125\n",
      "0.1254400946199894\n",
      "0.10261280462145805\n",
      "0.07098693773150444\n",
      "0.05055864527821541\n",
      "0.047555478289723396\n",
      "0.038901240564882755\n",
      "0.03216703236103058\n"
     ]
    }
   ],
   "source": [
    "num = 1000\n",
    "train(\n",
    "    model,\n",
    "    optimizer,\n",
    "    loader,\n",
    "    loss_func,\n",
    "    n_epochs=num\n",
    ")"
   ]
  },
  {
   "cell_type": "markdown",
   "id": "f0096ae6",
   "metadata": {},
   "source": [
    "##### Prediction"
   ]
  },
  {
   "cell_type": "code",
   "execution_count": 27,
   "id": "2e9757f7",
   "metadata": {},
   "outputs": [],
   "source": [
    "example_corpus = ['She comes from Warsaw']\n",
    "tokens = [s.lower().split() for s in example_corpus]\n",
    "labels = [[0, 0, 0, 1]]"
   ]
  },
  {
   "cell_type": "code",
   "execution_count": 28,
   "id": "0f82180a",
   "metadata": {},
   "outputs": [],
   "source": [
    "example_data = list(zip(tokens, labels))\n",
    "batch_size = 1\n",
    "shuffle = False\n",
    "window_size = 2\n",
    "collate_fn = partial(custom_collate_fn, window_size=window_size, words_to_indx=words_to_indx)\n",
    "\n",
    "loader = DataLoader(\n",
    "    dataset=example_data,\n",
    "    batch_size=batch_size,\n",
    "    shuffle=shuffle,\n",
    "    collate_fn=collate_fn\n",
    ")"
   ]
  },
  {
   "cell_type": "code",
   "execution_count": 29,
   "id": "69c9f15a",
   "metadata": {},
   "outputs": [
    {
     "name": "stdout",
     "output_type": "stream",
     "text": [
      "[[0, 0, 0, 1]]\n",
      "tensor([[0.0278, 0.0718, 0.1278, 0.8953]], grad_fn=<ViewBackward0>)\n"
     ]
    }
   ],
   "source": [
    "for x, y, _ in loader:\n",
    "    output = model.forward(x)\n",
    "    print(labels)\n",
    "    print(output)"
   ]
  }
 ],
 "metadata": {
  "kernelspec": {
   "display_name": ".venv",
   "language": "python",
   "name": "python3"
  },
  "language_info": {
   "codemirror_mode": {
    "name": "ipython",
    "version": 3
   },
   "file_extension": ".py",
   "mimetype": "text/x-python",
   "name": "python",
   "nbconvert_exporter": "python",
   "pygments_lexer": "ipython3",
   "version": "3.11.11"
  }
 },
 "nbformat": 4,
 "nbformat_minor": 5
}
