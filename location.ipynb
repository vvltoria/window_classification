{
 "cells": [
  {
   "cell_type": "code",
   "execution_count": 1,
   "id": "35b8ee56",
   "metadata": {},
   "outputs": [],
   "source": [
    "import numpy as np\n",
    "import pandas as pd\n",
    "import torch\n",
    "import torch.nn as nn"
   ]
  },
  {
   "cell_type": "markdown",
   "id": "c8d9d921",
   "metadata": {},
   "source": [
    "#### *Toy example (model needs to find words corresponding to the location)*\n",
    "---"
   ]
  },
  {
   "cell_type": "markdown",
   "id": "322f2caa",
   "metadata": {},
   "source": [
    "##### Data & Preprocessing"
   ]
  },
  {
   "cell_type": "code",
   "execution_count": 2,
   "id": "a398663f",
   "metadata": {},
   "outputs": [],
   "source": [
    "corpus = [\n",
    "          \"We always come to Paris\",\n",
    "          \"The professor is from Australia\",\n",
    "          \"I live in Stanford\",\n",
    "          \"He comes from Taiwan\",\n",
    "          \"The capital of Turkey is Ankara\"\n",
    "         ]"
   ]
  },
  {
   "cell_type": "markdown",
   "id": "1f7bd390",
   "metadata": {},
   "source": [
    "    - tokenization\n",
    "    - stop words removal\n",
    "    - lowercasing\n",
    "    - noise removal"
   ]
  },
  {
   "cell_type": "code",
   "execution_count": 3,
   "id": "b4f135b7",
   "metadata": {},
   "outputs": [],
   "source": [
    "def preprocessing(sent):\n",
    "    return sent.lower().split()\n",
    " \n",
    "train_sentences = [preprocessing(sentence) for sentence in corpus]"
   ]
  },
  {
   "cell_type": "code",
   "execution_count": 4,
   "id": "c027f45b",
   "metadata": {},
   "outputs": [
    {
     "data": {
      "text/plain": [
       "[['we', 'always', 'come', 'to', 'paris'],\n",
       " ['the', 'professor', 'is', 'from', 'australia'],\n",
       " ['i', 'live', 'in', 'stanford'],\n",
       " ['he', 'comes', 'from', 'taiwan'],\n",
       " ['the', 'capital', 'of', 'turkey', 'is', 'ankara']]"
      ]
     },
     "execution_count": 4,
     "metadata": {},
     "output_type": "execute_result"
    }
   ],
   "source": [
    "train_sentences"
   ]
  },
  {
   "cell_type": "markdown",
   "id": "620c55c4",
   "metadata": {},
   "source": [
    "    location set:"
   ]
  },
  {
   "cell_type": "code",
   "execution_count": 5,
   "id": "9956f787",
   "metadata": {},
   "outputs": [],
   "source": [
    "locations = set([\"australia\", \"ankara\", \"paris\", \"stanford\", \"taiwan\", \"turkey\"])\n",
    "\n",
    "train_labels = [[1 if word in locations else 0 for word in sentence] for sentence in train_sentences]"
   ]
  },
  {
   "cell_type": "code",
   "execution_count": 6,
   "id": "f798b13c",
   "metadata": {},
   "outputs": [
    {
     "data": {
      "text/plain": [
       "[[0, 0, 0, 0, 1],\n",
       " [0, 0, 0, 0, 1],\n",
       " [0, 0, 0, 1],\n",
       " [0, 0, 0, 1],\n",
       " [0, 0, 0, 1, 0, 1]]"
      ]
     },
     "execution_count": 6,
     "metadata": {},
     "output_type": "execute_result"
    }
   ],
   "source": [
    "train_labels"
   ]
  },
  {
   "cell_type": "markdown",
   "id": "64a33d99",
   "metadata": {},
   "source": [
    "    vocabulary from sentences:"
   ]
  },
  {
   "cell_type": "code",
   "execution_count": 7,
   "id": "fa8e166f",
   "metadata": {},
   "outputs": [
    {
     "data": {
      "text/plain": [
       "{'always',\n",
       " 'ankara',\n",
       " 'australia',\n",
       " 'capital',\n",
       " 'come',\n",
       " 'comes',\n",
       " 'from',\n",
       " 'he',\n",
       " 'i',\n",
       " 'in',\n",
       " 'is',\n",
       " 'live',\n",
       " 'of',\n",
       " 'paris',\n",
       " 'professor',\n",
       " 'stanford',\n",
       " 'taiwan',\n",
       " 'the',\n",
       " 'to',\n",
       " 'turkey',\n",
       " 'we'}"
      ]
     },
     "execution_count": 7,
     "metadata": {},
     "output_type": "execute_result"
    }
   ],
   "source": [
    "vocab = set(word for sentence in train_sentences for word in sentence)\n",
    "\n",
    "vocab"
   ]
  },
  {
   "cell_type": "code",
   "execution_count": 8,
   "id": "950ea168",
   "metadata": {},
   "outputs": [],
   "source": [
    "vocab.add(\"<unk>\")"
   ]
  },
  {
   "cell_type": "markdown",
   "id": "02c85ec9",
   "metadata": {},
   "source": [
    "    Padding for window classification"
   ]
  },
  {
   "cell_type": "code",
   "execution_count": 9,
   "id": "440d7c14",
   "metadata": {},
   "outputs": [],
   "source": [
    "vocab.add('<pad>')"
   ]
  },
  {
   "cell_type": "code",
   "execution_count": 10,
   "id": "ddda7e23",
   "metadata": {},
   "outputs": [],
   "source": [
    "def add_padding(sentence, window_size, pad='<pad>'):\n",
    "    window = [pad] * window_size\n",
    "    return window + sentence + window"
   ]
  },
  {
   "cell_type": "code",
   "execution_count": 11,
   "id": "894171d1",
   "metadata": {},
   "outputs": [],
   "source": [
    "words = sorted(list(vocab))\n",
    "\n",
    "words_to_indx = {word:indx for indx, word in enumerate(words)}"
   ]
  },
  {
   "cell_type": "code",
   "execution_count": 12,
   "id": "3ca9bf44",
   "metadata": {},
   "outputs": [
    {
     "data": {
      "text/plain": [
       "{'<pad>': 0,\n",
       " '<unk>': 1,\n",
       " 'always': 2,\n",
       " 'ankara': 3,\n",
       " 'australia': 4,\n",
       " 'capital': 5,\n",
       " 'come': 6,\n",
       " 'comes': 7,\n",
       " 'from': 8,\n",
       " 'he': 9,\n",
       " 'i': 10,\n",
       " 'in': 11,\n",
       " 'is': 12,\n",
       " 'live': 13,\n",
       " 'of': 14,\n",
       " 'paris': 15,\n",
       " 'professor': 16,\n",
       " 'stanford': 17,\n",
       " 'taiwan': 18,\n",
       " 'the': 19,\n",
       " 'to': 20,\n",
       " 'turkey': 21,\n",
       " 'we': 22}"
      ]
     },
     "execution_count": 12,
     "metadata": {},
     "output_type": "execute_result"
    }
   ],
   "source": [
    "words_to_indx"
   ]
  },
  {
   "cell_type": "markdown",
   "id": "f124db04",
   "metadata": {},
   "source": [
    "    converting sentences into sequence of indices"
   ]
  },
  {
   "cell_type": "code",
   "execution_count": 23,
   "id": "526c3544",
   "metadata": {},
   "outputs": [],
   "source": [
    "def sent_to_ind(sentence, words_indexes):\n",
    "    indexed_sentence = []\n",
    "    for word in sentence:\n",
    "        if word in words_indexes:\n",
    "            index = words_to_indx[word]\n",
    "        else:\n",
    "            index = words_to_indx['<unk>']\n",
    "        indexed_sentence.append(index)\n",
    "\n",
    "    return indexed_sentence"
   ]
  },
  {
   "cell_type": "code",
   "execution_count": 24,
   "id": "f891977e",
   "metadata": {},
   "outputs": [
    {
     "name": "stdout",
     "output_type": "stream",
     "text": [
      "indexed sentence from train corpus:  [22, 2, 6, 20, 15]\n",
      "from indecis to words:  ['we', 'always', 'come', 'to', 'paris']\n"
     ]
    }
   ],
   "source": [
    "indexed_sent = sent_to_ind(train_sentences[0], words_to_indx)\n",
    "restored_sent = [words[indx] for indx in indexed_sent]\n",
    "\n",
    "print('indexed sentence from train corpus: ', indexed_sent)\n",
    "print('from indecis to words: ', restored_sent)"
   ]
  },
  {
   "cell_type": "code",
   "execution_count": 26,
   "id": "92122a44",
   "metadata": {},
   "outputs": [
    {
     "data": {
      "text/plain": [
       "[[22, 2, 6, 20, 15],\n",
       " [19, 16, 12, 8, 4],\n",
       " [10, 13, 11, 17],\n",
       " [9, 7, 8, 18],\n",
       " [19, 5, 14, 21, 12, 3]]"
      ]
     },
     "execution_count": 26,
     "metadata": {},
     "output_type": "execute_result"
    }
   ],
   "source": [
    "train_indecies = [sent_to_ind(sentence, words_to_indx) for sentence in train_sentences]\n",
    "train_indecies"
   ]
  },
  {
   "cell_type": "code",
   "execution_count": 31,
   "id": "d5505884",
   "metadata": {},
   "outputs": [],
   "source": [
    "import pprint"
   ]
  },
  {
   "cell_type": "code",
   "execution_count": 36,
   "id": "7eccabce",
   "metadata": {},
   "outputs": [
    {
     "name": "stdout",
     "output_type": "stream",
     "text": [
      "Train tokens:\n",
      "[['we', 'always', 'come', 'to', 'paris'],\n",
      " ['the', 'professor', 'is', 'from', 'australia'],\n",
      " ['i', 'live', 'in', 'stanford'],\n",
      " ['he', 'comes', 'from', 'taiwan'],\n",
      " ['the', 'capital', 'of', 'turkey', 'is', 'ankara']]\n",
      "-------------\n",
      "Train labels for locations:\n",
      "[[0, 0, 0, 0, 1],\n",
      " [0, 0, 0, 0, 1],\n",
      " [0, 0, 0, 1],\n",
      " [0, 0, 0, 1],\n",
      " [0, 0, 0, 1, 0, 1]]\n",
      "-------------\n",
      "Train sentences turned into sequence of indecies:\n",
      "[[22, 2, 6, 20, 15],\n",
      " [19, 16, 12, 8, 4],\n",
      " [10, 13, 11, 17],\n",
      " [9, 7, 8, 18],\n",
      " [19, 5, 14, 21, 12, 3]]\n",
      "-------------\n"
     ]
    }
   ],
   "source": [
    "print('Train tokens:')\n",
    "pprint.pprint(train_sentences)\n",
    "print('-------------')\n",
    "\n",
    "print('Train labels for locations:')\n",
    "pprint.pprint(train_labels)\n",
    "print('-------------')\n",
    "\n",
    "print('Train sentences turned into sequence of indecies:')\n",
    "pprint.pprint(train_indecies)\n",
    "print('-------------')"
   ]
  },
  {
   "cell_type": "markdown",
   "id": "5898aaac",
   "metadata": {},
   "source": [
    "##### Batching"
   ]
  },
  {
   "cell_type": "code",
   "execution_count": null,
   "id": "6f0e702b",
   "metadata": {},
   "outputs": [],
   "source": []
  },
  {
   "cell_type": "code",
   "execution_count": null,
   "id": "38c3be86",
   "metadata": {},
   "outputs": [],
   "source": []
  },
  {
   "cell_type": "code",
   "execution_count": null,
   "id": "f9b6daff",
   "metadata": {},
   "outputs": [],
   "source": []
  },
  {
   "cell_type": "code",
   "execution_count": null,
   "id": "6742433d",
   "metadata": {},
   "outputs": [],
   "source": []
  }
 ],
 "metadata": {
  "kernelspec": {
   "display_name": ".venv",
   "language": "python",
   "name": "python3"
  },
  "language_info": {
   "codemirror_mode": {
    "name": "ipython",
    "version": 3
   },
   "file_extension": ".py",
   "mimetype": "text/x-python",
   "name": "python",
   "nbconvert_exporter": "python",
   "pygments_lexer": "ipython3",
   "version": "3.11.11"
  }
 },
 "nbformat": 4,
 "nbformat_minor": 5
}
