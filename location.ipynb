{
 "cells": [
  {
   "cell_type": "code",
   "execution_count": 1,
   "id": "35b8ee56",
   "metadata": {},
   "outputs": [],
   "source": [
    "import numpy as np\n",
    "import pandas as pd\n",
    "import torch\n",
    "import torch.nn as nn"
   ]
  },
  {
   "cell_type": "markdown",
   "id": "c8d9d921",
   "metadata": {},
   "source": [
    "#### *Toy example (model needs to find words corresponding to the location)*\n",
    "---"
   ]
  },
  {
   "cell_type": "markdown",
   "id": "322f2caa",
   "metadata": {},
   "source": [
    "##### Data & Preprocessing"
   ]
  },
  {
   "cell_type": "code",
   "execution_count": 3,
   "id": "a398663f",
   "metadata": {},
   "outputs": [],
   "source": [
    "corpus = [\n",
    "          \"We always come to Paris\",\n",
    "          \"The professor is from Australia\",\n",
    "          \"I live in Stanford\",\n",
    "          \"He comes from Taiwan\",\n",
    "          \"The capital of Turkey is Ankara\"\n",
    "         ]"
   ]
  },
  {
   "cell_type": "markdown",
   "id": "1f7bd390",
   "metadata": {},
   "source": [
    "    - tokenization\n",
    "    - stop words removal\n",
    "    - lowercasing\n",
    "    - moise removal"
   ]
  },
  {
   "cell_type": "code",
   "execution_count": 9,
   "id": "b4f135b7",
   "metadata": {},
   "outputs": [],
   "source": [
    "def preprocessing(sent):\n",
    "    return sent.lower().split()\n",
    " \n",
    "train_sentences = [preprocessing(sentence) for sentence in corpus]"
   ]
  },
  {
   "cell_type": "code",
   "execution_count": 10,
   "id": "c027f45b",
   "metadata": {},
   "outputs": [
    {
     "data": {
      "text/plain": [
       "[['we', 'always', 'come', 'to', 'paris'],\n",
       " ['the', 'professor', 'is', 'from', 'australia'],\n",
       " ['i', 'live', 'in', 'stanford'],\n",
       " ['he', 'comes', 'from', 'taiwan'],\n",
       " ['the', 'capital', 'of', 'turkey', 'is', 'ankara']]"
      ]
     },
     "execution_count": 10,
     "metadata": {},
     "output_type": "execute_result"
    }
   ],
   "source": [
    "train_sentences"
   ]
  },
  {
   "cell_type": "markdown",
   "id": "620c55c4",
   "metadata": {},
   "source": [
    "    location set:"
   ]
  },
  {
   "cell_type": "code",
   "execution_count": null,
   "id": "9956f787",
   "metadata": {},
   "outputs": [],
   "source": [
    "locations = set([\"australia\", \"ankara\", \"paris\", \"stanford\", \"taiwan\", \"turkey\"])\n",
    "\n",
    "train_labels = [[1 if word in locations else 0 for word in sentence] for sentence in train_sentences]"
   ]
  },
  {
   "cell_type": "code",
   "execution_count": 12,
   "id": "f798b13c",
   "metadata": {},
   "outputs": [
    {
     "data": {
      "text/plain": [
       "[[0, 0, 0, 0, 1],\n",
       " [0, 0, 0, 0, 1],\n",
       " [0, 0, 0, 1],\n",
       " [0, 0, 0, 1],\n",
       " [0, 0, 0, 1, 0, 1]]"
      ]
     },
     "execution_count": 12,
     "metadata": {},
     "output_type": "execute_result"
    }
   ],
   "source": [
    "train_labels"
   ]
  },
  {
   "cell_type": "markdown",
   "id": "64a33d99",
   "metadata": {},
   "source": [
    "    vocabulary from sentences:"
   ]
  },
  {
   "cell_type": "code",
   "execution_count": 13,
   "id": "fa8e166f",
   "metadata": {},
   "outputs": [
    {
     "data": {
      "text/plain": [
       "{'always',\n",
       " 'ankara',\n",
       " 'australia',\n",
       " 'capital',\n",
       " 'come',\n",
       " 'comes',\n",
       " 'from',\n",
       " 'he',\n",
       " 'i',\n",
       " 'in',\n",
       " 'is',\n",
       " 'live',\n",
       " 'of',\n",
       " 'paris',\n",
       " 'professor',\n",
       " 'stanford',\n",
       " 'taiwan',\n",
       " 'the',\n",
       " 'to',\n",
       " 'turkey',\n",
       " 'we'}"
      ]
     },
     "execution_count": 13,
     "metadata": {},
     "output_type": "execute_result"
    }
   ],
   "source": [
    "vocab = set(word for sentence in train_sentences for word in sentence)\n",
    "\n",
    "vocab"
   ]
  },
  {
   "cell_type": "code",
   "execution_count": 14,
   "id": "950ea168",
   "metadata": {},
   "outputs": [],
   "source": [
    "vocab.add(\"<unk>\")"
   ]
  },
  {
   "cell_type": "code",
   "execution_count": null,
   "id": "894171d1",
   "metadata": {},
   "outputs": [],
   "source": []
  },
  {
   "cell_type": "code",
   "execution_count": null,
   "id": "3ca9bf44",
   "metadata": {},
   "outputs": [],
   "source": []
  }
 ],
 "metadata": {
  "kernelspec": {
   "display_name": ".venv",
   "language": "python",
   "name": "python3"
  },
  "language_info": {
   "codemirror_mode": {
    "name": "ipython",
    "version": 3
   },
   "file_extension": ".py",
   "mimetype": "text/x-python",
   "name": "python",
   "nbconvert_exporter": "python",
   "pygments_lexer": "ipython3",
   "version": "3.11.11"
  }
 },
 "nbformat": 4,
 "nbformat_minor": 5
}
